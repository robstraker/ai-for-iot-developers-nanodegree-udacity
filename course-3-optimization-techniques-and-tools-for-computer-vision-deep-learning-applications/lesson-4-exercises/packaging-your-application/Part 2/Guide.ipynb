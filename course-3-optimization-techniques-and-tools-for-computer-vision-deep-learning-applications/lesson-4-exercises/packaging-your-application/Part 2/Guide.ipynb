{
 "cells": [
  {
   "cell_type": "markdown",
   "metadata": {
    "editable": true,
    "ulab": {
     "buttons": {
      "ulab-button-9627e9c3": {
       "bashCommand": "source /opt/intel/openvino/bin/setupvars.sh -pyver 3.5",
       "filesToOpen": [],
       "isPreviewButton": false,
       "runInBackground": false,
       "style": "primary",
       "text": "Source OpenVINO Environment",
       "toggleOffText": "HIDE SOLUTION",
       "toggleOnText": "SHOW SOLUTION"
      }
     }
    }
   },
   "source": [
    "# Exercise: Packaging your Application\n",
    "\n",
    "For this exercise, you need to create a runtime package of either one of your application code, or the `vtune_project` folder present in this workspace.\n",
    "\n",
    "However, this time, instead of using the interactive mode to create your application, can you use the CLI mode?\n",
    "\n",
    "**Note**: In case you get stuck (or just want some additional explanation), you'll find a full walkthrough video at the end of this guide.\n",
    "\n",
    "## Try It!\n",
    "\n",
    "To source the OpenVINO environment, click the button below\n",
    "\n",
    "<button id=\"ulab-button-9627e9c3\" class=\"ulab-btn--primary\"></button>"
   ]
  },
  {
   "cell_type": "markdown",
   "metadata": {
    "editable": true
   },
   "source": [
    "Now try the following:\n",
    "\n",
    "- Create a runtime package using the Deployment Manager in CLI mode\n",
    "- If you like, try creating a runtime package of your own application (like something you built in the lesson on reducing model operations)"
   ]
  },
  {
   "cell_type": "markdown",
   "metadata": {
    "editable": true,
    "toggleable": true,
    "ulab": {
     "buttons": {
      "ulab-button-toggle-10344793": {
       "bashCommand": "",
       "filesToOpen": [],
       "isPreviewButton": false,
       "runInBackground": false,
       "style": "primary",
       "text": "",
       "toggleOffText": "HIDE WALKTHROUGH",
       "toggleOnText": "SHOW WALKTHROUGH"
      }
     }
    },
    "video": {
     "duration": 125,
     "id": "105744",
     "subtitles": [],
     "topher_id": "5036c81f-6818-11ea-99b8-0242ac110010",
     "transcodings": {
      "uri_480p_1000kbps_mp4": "https://video.udacity-data.com/topher/2020/March/5e706db6_nd131-c03-l03-a08-solution-packaging-your-application/nd131-c03-l03-a08-solution-packaging-your-application_480p_1000kbps.mp4",
      "uri_480p_mp4": "https://video.udacity-data.com/topher/2020/March/5e706db6_nd131-c03-l03-a08-solution-packaging-your-application/nd131-c03-l03-a08-solution-packaging-your-application_480p.mp4",
      "uri_720p_mp4": "https://video.udacity-data.com/topher/2020/March/5e706db6_nd131-c03-l03-a08-solution-packaging-your-application/nd131-c03-l03-a08-solution-packaging-your-application_720p.mp4",
      "uri_hls": "https://video.udacity-data.com/topher/2020/March/5e706db6_nd131-c03-l03-a08-solution-packaging-your-application/hls/playlist.m3u8"
     },
     "youtube_id": "yMQpKLTbBXo"
    }
   },
   "source": []
  }
 ],
 "metadata": {
  "kernelspec": {
   "display_name": "Python 3",
   "language": "python",
   "name": "python3"
  },
  "language_info": {
   "codemirror_mode": {
    "name": "ipython",
    "version": 3
   },
   "file_extension": ".py",
   "mimetype": "text/x-python",
   "name": "python",
   "nbconvert_exporter": "python",
   "pygments_lexer": "ipython3",
   "version": "3.6.3"
  },
  "ulab_nb_type": "guided"
 },
 "nbformat": 4,
 "nbformat_minor": 4
}
