{
 "cells": [
  {
   "cell_type": "markdown",
   "metadata": {
    "graffitiCellId": "id_2skrynt"
   },
   "source": [
    "# Exercise: FPGA and the DevCloud\n",
    "\n",
    "The following are the tasks assigned to you for this exercise, \n",
    "\n",
    "1. Load the license plate detection model on to the Intel Arria 10 FPGA and perform an inference on it.\n",
    "2. Calculate the time it takes to do the Inference for 10 iterations"
   ]
  },
  {
   "cell_type": "markdown",
   "metadata": {
    "graffitiCellId": "id_vskulnq"
   },
   "source": [
    "<span class=\"graffiti-highlight graffiti-id_vskulnq-id_oudamc9\"><i></i><button>Introduction</button></span>"
   ]
  },
  {
   "cell_type": "markdown",
   "metadata": {
    "graffitiCellId": "id_rxiw7xn"
   },
   "source": [
    "\n",
    "\n",
    "#### Set up paths so we can run Dev Cloud utilities\n",
    "You *must* run this every time they enter a Workspace session."
   ]
  },
  {
   "cell_type": "code",
   "execution_count": 2,
   "metadata": {
    "graffitiCellId": "id_j8qquf3"
   },
   "outputs": [
    {
     "name": "stdout",
     "output_type": "stream",
     "text": [
      "env: PATH=/opt/conda/bin:/opt/spark-2.4.3-bin-hadoop2.7/bin:/opt/conda/bin:/usr/local/sbin:/usr/local/bin:/usr/sbin:/usr/bin:/sbin:/bin:/opt/intel_devcloud_support\n"
     ]
    }
   ],
   "source": [
    "%env PATH=/opt/conda/bin:/opt/spark-2.4.3-bin-hadoop2.7/bin:/opt/conda/bin:/usr/local/sbin:/usr/local/bin:/usr/sbin:/usr/bin:/sbin:/bin:/opt/intel_devcloud_support\n",
    "import os\n",
    "import sys\n",
    "sys.path.insert(0, os.path.abspath('/opt/intel_devcloud_support'))\n",
    "sys.path.insert(0, os.path.abspath('/opt/intel'))"
   ]
  },
  {
   "cell_type": "code",
   "execution_count": 10,
   "metadata": {
    "graffitiCellId": "id_8kdxzyy"
   },
   "outputs": [
    {
     "name": "stdout",
     "output_type": "stream",
     "text": [
      "/opt/intel/mediasdk/install_media.sh\n",
      "/opt/intel/openvino_2020.1.023/openvino_toolkit_uninstaller/uninstall.sh\n",
      "/opt/intel/openvino_2020.1.023/openvino_toolkit_uninstaller/uninstall_GUI.sh\n",
      "/opt/intel/openvino_2020.1.023/deployment_tools/tools/cl_compiler/bin/cltools_setenv.sh\n",
      "/opt/intel/openvino_2020.1.023/deployment_tools/tools/workbench/wait_until_db_is_live.sh\n",
      "/opt/intel/openvino_2020.1.023/deployment_tools/tools/workbench/run_openvino_workbench.sh\n",
      "/opt/intel/openvino_2020.1.023/deployment_tools/tools/workbench/docker-entrypoint.sh\n",
      "/opt/intel/openvino_2020.1.023/deployment_tools/tools/workbench/start_rabbitmq.sh\n",
      "/opt/intel/openvino_2020.1.023/deployment_tools/tools/workbench/build_docker.sh\n",
      "/opt/intel/openvino_2020.1.023/deployment_tools/demo/demo_squeezenet_download_convert_run.sh\n",
      "/opt/intel/openvino_2020.1.023/deployment_tools/demo/utils.sh\n",
      "/opt/intel/openvino_2020.1.023/deployment_tools/demo/demo_security_barrier_camera.sh\n",
      "/opt/intel/openvino_2020.1.023/deployment_tools/demo/demo_benchmark_app.sh\n",
      "/opt/intel/openvino_2020.1.023/deployment_tools/model_optimizer/venv/lib/python3.5/site-packages/mxnet/tools/caffe_converter/run.sh\n",
      "/opt/intel/openvino_2020.1.023/deployment_tools/model_optimizer/tf_call_ie_layer/build.sh\n",
      "/opt/intel/openvino_2020.1.023/deployment_tools/model_optimizer/install_prerequisites/install_prerequisites.sh\n",
      "/opt/intel/openvino_2020.1.023/deployment_tools/model_optimizer/install_prerequisites/install_prerequisites_tf.sh\n",
      "/opt/intel/openvino_2020.1.023/deployment_tools/model_optimizer/install_prerequisites/install_prerequisites_kaldi.sh\n",
      "/opt/intel/openvino_2020.1.023/deployment_tools/model_optimizer/install_prerequisites/install_prerequisites_caffe.sh\n",
      "/opt/intel/openvino_2020.1.023/deployment_tools/model_optimizer/install_prerequisites/install_prerequisites_onnx.sh\n",
      "/opt/intel/openvino_2020.1.023/deployment_tools/model_optimizer/install_prerequisites/install_prerequisites_mxnet.sh\n",
      "/opt/intel/openvino_2020.1.023/deployment_tools/inference_engine/samples/cpp/thirdparty/gflags/src/gflags_completions.sh\n",
      "/opt/intel/openvino_2020.1.023/deployment_tools/inference_engine/samples/cpp/build_samples.sh\n",
      "/opt/intel/openvino_2020.1.023/deployment_tools/inference_engine/samples/c/build_samples.sh\n",
      "/opt/intel/openvino_2020.1.023/deployment_tools/inference_engine/external/hddl/install_IVAD_VPU_dependencies.sh\n",
      "/opt/intel/openvino_2020.1.023/deployment_tools/inference_engine/external/hddl/generate_udev_rules.sh\n",
      "/opt/intel/openvino_2020.1.023/deployment_tools/inference_engine/external/hddl/drivers/setup.sh\n",
      "/opt/intel/openvino_2020.1.023/deployment_tools/inference_engine/external/hddl/hddl-bsl/src/generate_udev_rules.sh\n",
      "/opt/intel/openvino_2020.1.023/deployment_tools/inference_engine/external/hddl/hddl-bsl/setup_tools/pericom_g608_linux/install.sh\n",
      "/opt/intel/openvino_2020.1.023/deployment_tools/inference_engine/external/hddl/hddl-bsl/setup_tools/pericom_g608_linux/pericom_g608.sh\n",
      "/opt/intel/openvino_2020.1.023/deployment_tools/inference_engine/external/hddl/hddl-bsl/setup_tools/path_detection.sh\n",
      "/opt/intel/openvino_2020.1.023/deployment_tools/inference_engine/external/myriad/drivers/setup.sh\n",
      "/opt/intel/openvino_2020.1.023/deployment_tools/open_model_zoo/demos/thirdparty/gflags/src/gflags_completions.sh\n",
      "/opt/intel/openvino_2020.1.023/deployment_tools/open_model_zoo/demos/build_demos.sh\n",
      "/opt/intel/openvino_2020.1.023/opencv/setupvars.sh\n",
      "/opt/intel/openvino_2020.1.023/install_dependencies/install_4_14_kernel.sh\n",
      "/opt/intel/openvino_2020.1.023/install_dependencies/install_openvino_dependencies.sh\n",
      "/opt/intel/openvino_2020.1.023/install_dependencies/install_NEO_OCL_driver.sh\n",
      "/opt/intel/openvino_2020.1.023/install_dependencies/_install_all_dependencies.sh\n",
      "/opt/intel/openvino_2020.1.023/install_dependencies/install_NCS_udev_rules.sh\n",
      "/opt/intel/openvino_2020.1.023/bin/setupvars.sh\n"
     ]
    }
   ],
   "source": [
    "!find /opt/intel -name '*.sh'"
   ]
  },
  {
   "cell_type": "markdown",
   "metadata": {
    "graffitiCellId": "id_og4tvyg"
   },
   "source": [
    "## The model\n",
    "\n",
    "We will be using the `vehicle-license-plate-detection-barrier-0106` model for this exercise. Remember that to run a model on the FPGA, we need to use FP16 as the model precision.\n",
    "\n",
    "The model is present in the `/data/models/intel` folder."
   ]
  },
  {
   "cell_type": "markdown",
   "metadata": {
    "graffitiCellId": "id_xhmtvpp"
   },
   "source": [
    "# Step 1: Creating a Python Script\n",
    "\n",
    "The first step is to create a python script that you can use to load the model and perform an inference. I have used the `writefile` magic to create a python file called `inference_on_device.py`. You will need to complete this file."
   ]
  },
  {
   "cell_type": "code",
   "execution_count": 11,
   "metadata": {
    "graffitiCellId": "id_4w6w5if"
   },
   "outputs": [
    {
     "name": "stdout",
     "output_type": "stream",
     "text": [
      "Overwriting inference_on_device.py\n"
     ]
    }
   ],
   "source": [
    "%%writefile inference_on_device.py\n",
    "\n",
    "import time\n",
    "import cv2\n",
    "import numpy as np\n",
    "from openvino.inference_engine import IENetwork\n",
    "from openvino.inference_engine import IECore\n",
    "import argparse\n",
    "import os.path\n",
    "\n",
    "def main(args):\n",
    "    model=args.model_path\n",
    "    model_weights=model+'.bin'\n",
    "    model_structure=model+'.xml'\n",
    "    \n",
    "    print('#', model_weights, 'Exists:', os.path.isfile(model_weights))\n",
    "    print('#', model_structure, 'Exists:', os.path.isfile(model_structure))\n",
    "    \n",
    "    start=time.time()\n",
    "    model=IENetwork(model_structure, model_weights)\n",
    "\n",
    "    core = IECore()\n",
    "    net = core.load_network(network=model, device_name=args.device, num_requests=1)\n",
    "    print(f\"Time taken to load model = {time.time()-start} seconds\")\n",
    "\n",
    "    # Get the name of the input node\n",
    "    input_name=next(iter(model.inputs))\n",
    "\n",
    "    # Reading and Preprocessing Image\n",
    "    input_img=cv2.imread('/data/resources/car.png')\n",
    "    input_img=cv2.resize(input_img, (300,300), interpolation = cv2.INTER_AREA)\n",
    "    input_img=np.moveaxis(input_img, -1, 0)\n",
    "\n",
    "    # Running Inference in a loop on the same image\n",
    "    input_dict={input_name:input_img}\n",
    "\n",
    "    start=time.time()\n",
    "    for _ in range(10):\n",
    "        net.infer(input_dict)\n",
    "    \n",
    "    print(f\"Time Taken to run 10 Inference on FPGA is = {time.time()-start} seconds\")\n",
    "\n",
    "if __name__=='__main__':\n",
    "    parser=argparse.ArgumentParser()\n",
    "    parser.add_argument('--model_path', required=True)\n",
    "    parser.add_argument('--device', default=None)\n",
    "    \n",
    "    args=parser.parse_args() \n",
    "    main(args)"
   ]
  },
  {
   "cell_type": "markdown",
   "metadata": {
    "graffitiCellId": "id_f28ff2h"
   },
   "source": [
    "<span class=\"graffiti-highlight graffiti-id_f28ff2h-id_4psdryf\"><i></i><button>Show Solution</button></span>"
   ]
  },
  {
   "cell_type": "markdown",
   "metadata": {
    "graffitiCellId": "id_jwx8ifc"
   },
   "source": [
    "## Step 2: Creating a job submission script\n",
    "\n",
    "To submit a job to the devcloud, we need to create a script. I have named the script as `inference_fpga_model_job.sh`.\n",
    "\n",
    "Can you write a script that will take the model path and device as a command line argument and then call the python file you created in the previous cell with the path to the model?\n",
    "\n",
    "Remember that you will need to use the `aocl` command to load the bitstream file on to the FPGA"
   ]
  },
  {
   "cell_type": "code",
   "execution_count": 12,
   "metadata": {
    "graffitiCellId": "id_hmaeu94"
   },
   "outputs": [
    {
     "name": "stdout",
     "output_type": "stream",
     "text": [
      "Overwriting inference_fpga_model_job.sh\n"
     ]
    }
   ],
   "source": [
    "%%writefile inference_fpga_model_job.sh\n",
    "#!/bin/bash\n",
    "\n",
    "exec 1>/output/stdout.log 2>/output/stderr.log\n",
    "\n",
    "mkdir -p /output\n",
    "\n",
    "DEVICE=$1\n",
    "MODELPATH=$2\n",
    "\n",
    "echo '---'\n",
    "ls /opt/intel/\n",
    "echo '---'\n",
    "\n",
    "source /opt/intel/openvino/bin/setupvars.sh\n",
    "source /opt/intel/init_openvino.sh\n",
    "aocl program acl0 /opt/intel/openvino/bitstreams/a10_vision_design_sg1_bitstreams/2019R4_PL1_FP16_MobileNet_Clamp.aocx\n",
    "\n",
    "\n",
    "# Run the load model python script\n",
    "python3 inference_on_device.py  --model_path ${MODELPATH} --device ${DEVICE}\n",
    "\n",
    "cd /output\n",
    "\n",
    "tar zcvf output.tgz stdout.log stderr.log"
   ]
  },
  {
   "cell_type": "markdown",
   "metadata": {
    "graffitiCellId": "id_5e0vxvt"
   },
   "source": [
    "<span class=\"graffiti-highlight graffiti-id_5e0vxvt-id_5zk2mzh\"><i></i><button>Show Solution</button></span>"
   ]
  },
  {
   "cell_type": "markdown",
   "metadata": {
    "graffitiCellId": "id_3w1m2ga"
   },
   "source": [
    "## Step 3: Running on the FPGA\n",
    "\n",
    "In the cell below, can you write the qsub command that will submit your job to the FPGA?"
   ]
  },
  {
   "cell_type": "code",
   "execution_count": 13,
   "metadata": {
    "graffitiCellId": "id_0okzrke"
   },
   "outputs": [
    {
     "name": "stdout",
     "output_type": "stream",
     "text": [
      "KnQzQ6U1I7I5FVEWqupW20dZXOtkTZoB\n"
     ]
    }
   ],
   "source": [
    "job_id_core = !qsub inference_fpga_model_job.sh -d . -l nodes=1:tank-870:i5-6500te:iei-mustang-f100-a10 -F \"HETERO:FPGA,CPU /data/models/intel/vehicle-license-plate-detection-barrier-0106/FP32/vehicle-license-plate-detection-barrier-0106\" -N store_core \n",
    "print(job_id_core[0])"
   ]
  },
  {
   "cell_type": "markdown",
   "metadata": {
    "graffitiCellId": "id_yr40vov"
   },
   "source": [
    "<span class=\"graffiti-highlight graffiti-id_yr40vov-id_cvo0xg6\"><i></i><button>Show Solution</button></span>"
   ]
  },
  {
   "cell_type": "markdown",
   "metadata": {
    "graffitiCellId": "id_508yfca"
   },
   "source": [
    "## Step 4: Getting the Live Stat Values\n",
    "\n",
    "By running the below command, we can see the live status of the commands."
   ]
  },
  {
   "cell_type": "markdown",
   "metadata": {
    "graffitiCellId": "id_ecvm8yr"
   },
   "source": [
    "<span class=\"graffiti-highlight graffiti-id_ecvm8yr-id_nnpaoep\"><i></i><button>Click here to know about liveqstat command</button></span>"
   ]
  },
  {
   "cell_type": "code",
   "execution_count": 14,
   "metadata": {
    "graffitiCellId": "id_q0j984n"
   },
   "outputs": [],
   "source": [
    "import liveQStat\n",
    "liveQStat.liveQStat()"
   ]
  },
  {
   "cell_type": "markdown",
   "metadata": {
    "graffitiCellId": "id_dq0gcof"
   },
   "source": [
    "## Step 5: Get the results\n",
    "\n",
    "Running the cell below will get the output files from our job"
   ]
  },
  {
   "cell_type": "markdown",
   "metadata": {
    "graffitiCellId": "id_s7wimuv"
   },
   "source": [
    "<span class=\"graffiti-highlight graffiti-id_s7wimuv-id_xm8qs9p\"><i></i><button> Click here to know about fetching the output files containing the results</button></span>"
   ]
  },
  {
   "cell_type": "code",
   "execution_count": 15,
   "metadata": {
    "graffitiCellId": "id_b1elza3"
   },
   "outputs": [
    {
     "name": "stdout",
     "output_type": "stream",
     "text": [
      "getResults() is blocking until results of the job (id:KnQzQ6U1I7I5FVEWqupW20dZXOtkTZoB) are ready.\n",
      "Please wait................Success!\n",
      "output.tgz was downloaded in the same folder as this notebook.\n"
     ]
    }
   ],
   "source": [
    "import get_results\n",
    "\n",
    "get_results.getResults(job_id_core[0], filename=\"output.tgz\", blocking=True)"
   ]
  },
  {
   "cell_type": "code",
   "execution_count": 16,
   "metadata": {
    "graffitiCellId": "id_ldxhc7s"
   },
   "outputs": [],
   "source": [
    "!tar zxf output.tgz"
   ]
  },
  {
   "cell_type": "code",
   "execution_count": 17,
   "metadata": {
    "graffitiCellId": "id_ee5qrbj"
   },
   "outputs": [
    {
     "name": "stdout",
     "output_type": "stream",
     "text": [
      "---\r\n",
      "intel_sdp_products.db\r\n",
      "mediasdk\r\n",
      "openvino\r\n",
      "openvino_2020.1.023\r\n",
      "---\r\n",
      "[setupvars.sh] OpenVINO environment initialized\r\n",
      "# /data/models/intel/vehicle-license-plate-detection-barrier-0106/FP32/vehicle-license-plate-detection-barrier-0106.bin Exists: True\r\n",
      "# /data/models/intel/vehicle-license-plate-detection-barrier-0106/FP32/vehicle-license-plate-detection-barrier-0106.xml Exists: True\r\n"
     ]
    }
   ],
   "source": [
    "!cat stdout.log"
   ]
  },
  {
   "cell_type": "code",
   "execution_count": 18,
   "metadata": {
    "graffitiCellId": "id_zz9yxvl"
   },
   "outputs": [
    {
     "name": "stdout",
     "output_type": "stream",
     "text": [
      "./submission.sh: line 15: /opt/intel/init_openvino.sh: No such file or directory\r\n",
      "./submission.sh: line 16: aocl: command not found\r\n",
      "Traceback (most recent call last):\r\n",
      "  File \"inference_on_device.py\", line 48, in <module>\r\n",
      "    main(args)\r\n",
      "  File \"inference_on_device.py\", line 22, in main\r\n",
      "    net = core.load_network(network=model, device_name=args.device, num_requests=1)\r\n",
      "  File \"ie_api.pyx\", line 134, in openvino.inference_engine.ie_api.IECore.load_network\r\n",
      "  File \"ie_api.pyx\", line 141, in openvino.inference_engine.ie_api.IECore.load_network\r\n",
      "RuntimeError: Failed to create plugin libdliaPlugin.so for device FPGA\r\n",
      "Please, check your environment\r\n",
      "Cannot load library 'libdliaPlugin.so': libdliaPlugin.so: cannot open shared object file: No such file or directory\r\n",
      "\r\n",
      "tar: stdout.log: file changed as we read it\r\n"
     ]
    }
   ],
   "source": [
    "!cat stderr.log"
   ]
  },
  {
   "cell_type": "code",
   "execution_count": null,
   "metadata": {
    "graffitiCellId": "id_usxzch3"
   },
   "outputs": [],
   "source": []
  }
 ],
 "metadata": {
  "graffiti": {
   "firstAuthorId": "10505542082",
   "id": "id_am6qdje",
   "language": "EN"
  },
  "kernelspec": {
   "display_name": "Python 3",
   "language": "python",
   "name": "python3"
  },
  "language_info": {
   "codemirror_mode": {
    "name": "ipython",
    "version": 3
   },
   "file_extension": ".py",
   "mimetype": "text/x-python",
   "name": "python",
   "nbconvert_exporter": "python",
   "pygments_lexer": "ipython3",
   "version": "3.6.3"
  }
 },
 "nbformat": 4,
 "nbformat_minor": 2
}
