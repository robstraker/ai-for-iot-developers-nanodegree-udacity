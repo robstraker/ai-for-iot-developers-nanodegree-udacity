{
 "cells": [
  {
   "cell_type": "markdown",
   "metadata": {},
   "source": [
    "# DevCloud API\n",
    "\n",
    "Methods to perform GET/DELETE operations on the Queue Jobs."
   ]
  },
  {
   "cell_type": "code",
   "execution_count": 2,
   "metadata": {},
   "outputs": [
    {
     "name": "stdout",
     "output_type": "stream",
     "text": [
      "env: PATH=/opt/conda/bin:/opt/spark-2.4.3-bin-hadoop2.7/bin:/opt/conda/bin:/usr/local/sbin:/usr/local/bin:/usr/sbin:/usr/bin:/sbin:/bin:/opt/intel_devcloud_support\n"
     ]
    }
   ],
   "source": [
    "%env PATH=/opt/conda/bin:/opt/spark-2.4.3-bin-hadoop2.7/bin:/opt/conda/bin:/usr/local/sbin:/usr/local/bin:/usr/sbin:/usr/bin:/sbin:/bin:/opt/intel_devcloud_support\n",
    "import os\n",
    "import sys\n",
    "sys.path.insert(0, os.path.abspath('/opt/intel_devcloud_support'))\n",
    "sys.path.insert(0, os.path.abspath('/opt/intel'))"
   ]
  },
  {
   "cell_type": "code",
   "execution_count": 5,
   "metadata": {},
   "outputs": [],
   "source": [
    "import requests\n",
    "import json\n",
    "import liveQStat\n",
    "\n",
    "\n",
    "def doGetJWT():\n",
    "    JWT_URL = \"https://nebula.udacity.com/api/v1/remote/intel-dev-cloud\"\n",
    "    TOKEN_URL = \"http://metadata.google.internal/computeMetadata/v1/instance/attributes/keep_alive_token\"\n",
    "    token = requests.request(\"GET\", TOKEN_URL, headers={\"Metadata-Flavor\":\"Google\"}).text\n",
    "    jobStartJwt = requests.request(\n",
    "        \"POST\", JWT_URL,\n",
    "        headers={'Authorization': \"Star \" + token, \"Content-Type\": \"application/json\"},\n",
    "        data=json.dumps({ 'nodeType' : 'GPU' })).text\n",
    "    return json.loads(jobStartJwt)[\"jwt\"]\n",
    "\n",
    "\n",
    "class JWTAuth(requests.auth.AuthBase):\n",
    "    def __init__(self, jwt):\n",
    "        self.jwt = jwt\n",
    "    def __call__(self, r):\n",
    "        # Setting HTTP header for JWT Authorization\n",
    "        r.headers['Authorization'] = \"Bearer \" + self.jwt\n",
    "        return r\n",
    "\n",
    "\n",
    "def deleteJob(job_id):\n",
    "    jwt = doGetJWT()\n",
    "    result = requests.delete('https://devapi.edge.devcloud.intel.com/jobapi/jobs/' + job_id, auth=JWTAuth(jwt))\n",
    "    print(result.status_code, result.text)\n",
    "    \n",
    "\n",
    "def getJob(job_id):\n",
    "    jwt = doGetJWT()\n",
    "    result = requests.get('https://devapi.edge.devcloud.intel.com/jobapi/jobs/' + job_id, auth=JWTAuth(jwt))\n",
    "    print(result.status_code, result.text)\n",
    "    \n",
    "    \n",
    "def viewJobs():\n",
    "    liveQStat.liveQStat()\n",
    "    "
   ]
  },
  {
   "cell_type": "markdown",
   "metadata": {},
   "source": [
    "## View Jobs in the Queue"
   ]
  },
  {
   "cell_type": "code",
   "execution_count": 7,
   "metadata": {},
   "outputs": [],
   "source": [
    "viewJobs()"
   ]
  },
  {
   "cell_type": "markdown",
   "metadata": {},
   "source": [
    "## Perform Operations on the Job"
   ]
  },
  {
   "cell_type": "code",
   "execution_count": 8,
   "metadata": {},
   "outputs": [
    {
     "name": "stdout",
     "output_type": "stream",
     "text": [
      "200 {\"data\":{\"desc\":\"Job is completed, but waiting on results.\",\"status\":\"W\"},\"status\":\"success\"}\n",
      "\n"
     ]
    }
   ],
   "source": [
    "getJob('0BfwOOVz0Jf2dnBKwu2Qd3ug1bCaKAgD')"
   ]
  },
  {
   "cell_type": "code",
   "execution_count": null,
   "metadata": {},
   "outputs": [],
   "source": []
  }
 ],
 "metadata": {
  "kernelspec": {
   "display_name": "Python 3",
   "language": "python",
   "name": "python3"
  },
  "language_info": {
   "codemirror_mode": {
    "name": "ipython",
    "version": 3
   },
   "file_extension": ".py",
   "mimetype": "text/x-python",
   "name": "python",
   "nbconvert_exporter": "python",
   "pygments_lexer": "ipython3",
   "version": "3.6.5"
  }
 },
 "nbformat": 4,
 "nbformat_minor": 2
}
