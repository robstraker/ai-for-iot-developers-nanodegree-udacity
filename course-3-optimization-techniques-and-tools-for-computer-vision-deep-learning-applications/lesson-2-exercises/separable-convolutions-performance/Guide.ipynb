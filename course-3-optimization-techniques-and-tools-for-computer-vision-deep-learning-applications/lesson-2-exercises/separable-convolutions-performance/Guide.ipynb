{
 "cells": [
  {
   "cell_type": "markdown",
   "metadata": {
    "editable": true
   },
   "source": [
    "# Exercise: Seperable Convolutions Performance\n",
    "\n",
    "For this exercise you have two main tasks. Your first task is to calculate the total number of FLOPs in a model that uses separable convolutional layers. Your second task is to then create an inference engine pipeline that can run the model.\n",
    "\n",
    "For this exercise, you will be calculating the FLOPs for the `sep_cnn` model.\n",
    "\n",
    "**Note:** In case you get stuck (or just want some additional explanation), you'll find a full walkthrough video at the end of these instructions."
   ]
  },
  {
   "cell_type": "markdown",
   "metadata": {
    "editable": true
   },
   "source": [
    "## Task 1: Calculate Model FLOPS\n",
    "\n",
    "#### Layer 1: Separable Conv2D\n",
    "Input shape: 1x1x28x28  \n",
    "Kernel shape: 3x3  \n",
    "Number of kernels: 10  "
   ]
  },
  {
   "cell_type": "markdown",
   "metadata": {
    "editable": true,
    "toggleable": true,
    "ulab": {
     "buttons": {
      "ulab-button-toggle-498cba3e": {
       "style": "primary"
      }
     }
    }
   },
   "source": [
    "Depthwise Layer:  \n",
    "The shape for a single dimension will be = (28-3)+1 = 26   \n",
    "So our output shape will be 26x26  \n",
    "Because we have 1 input channel, our actual output shape will be 1x26x26  \n",
    "\n",
    "FLOPs: 1x26x26x3x3x1x2 = 12,168  \n",
    "\n",
    "Pointwise Layer:  \n",
    "Input Shape = 1x26x26  \n",
    "No. of kernels = 10  \n",
    "Output Shape = 10x26x26  \n",
    "\n",
    "FLOPs: 10x1x1x1x26x26 = 6,760  \n",
    "\n",
    "Total FLOPs: 12168+6760 = 18,928  "
   ]
  },
  {
   "cell_type": "markdown",
   "metadata": {
    "editable": true
   },
   "source": [
    "#### Layer 2: Separable Conv2D\n",
    "Input shape: 10x26x26  \n",
    "Kernel shape: 3x3  \n",
    "Number of kernels: 5  "
   ]
  },
  {
   "cell_type": "markdown",
   "metadata": {
    "editable": true,
    "toggleable": true,
    "ulab": {
     "buttons": {
      "ulab-button-toggle-1c62f244": {
       "style": "primary"
      }
     }
    }
   },
   "source": [
    "Depthwise Layer:  \n",
    "The shape for a single dimension will be = (26-3)+1 = 24   \n",
    "So our output shape will be 24x24  \n",
    "Because we have 10 input channel, our actual output shape will be 10x26x26  \n",
    "\n",
    "FLOPs: 10x24x24x3x3x1x2 = 103,680  \n",
    "\n",
    "Pointwise Layer:  \n",
    "Input Shape = 10x24x24  \n",
    "No. of kernels = 5  \n",
    "Output Shape = 5x24x24  \n",
    "\n",
    "FLOPs: 5x1x1x10x24x24 = 28,800  \n",
    "\n",
    "Total FLOPs = 103680 + 28800 = 132,480"
   ]
  },
  {
   "cell_type": "markdown",
   "metadata": {
    "editable": true
   },
   "source": [
    "#### Layer 3: Fully Connected\n",
    "Number of neurons: 128  "
   ]
  },
  {
   "cell_type": "markdown",
   "metadata": {
    "editable": true,
    "toggleable": true,
    "ulab": {
     "buttons": {
      "ulab-button-toggle-5dcde73b": {
       "style": "primary"
      }
     }
    }
   },
   "source": [
    "Input shape: 24x24x5: 2880  \n",
    "FLOPs: 2880x128x2 = 737,280  "
   ]
  },
  {
   "cell_type": "markdown",
   "metadata": {
    "editable": true
   },
   "source": [
    "#### Layer 4: Fully Connected\n",
    "Input Shape: 128  \n",
    "Output Shape: 10  "
   ]
  },
  {
   "cell_type": "markdown",
   "metadata": {
    "editable": true,
    "toggleable": true,
    "ulab": {
     "buttons": {
      "ulab-button-toggle-55c1bb58": {
       "style": "primary"
      }
     }
    }
   },
   "source": [
    "FLOPS: 128x10x2 = 2560 "
   ]
  },
  {
   "cell_type": "markdown",
   "metadata": {
    "editable": true,
    "ulab": {
     "buttons": {
      "ulab-button-2073d4d0": {
       "bashCommand": "source /opt/intel/openvino/bin/setupvars.sh -pyver 3.5",
       "filesToOpen": [],
       "isPreviewButton": false,
       "runInBackground": false,
       "style": "primary",
       "text": "Source OpenVINO Environment",
       "toggleOffText": "HIDE SOLUTION",
       "toggleOnText": "SHOW SOLUTION"
      }
     }
    }
   },
   "source": [
    "### Task 2: Completing the Inference Pipeline\n",
    "Complete the `inference.py` python script on the right.\n",
    "\n",
    "Remember to source the OpenVINO environment before running the python script.\n",
    "\n",
    "<button id=\"ulab-button-2073d4d0\" class=\"ulab-btn--primary\"></button>"
   ]
  },
  {
   "cell_type": "markdown",
   "metadata": {
    "editable": true
   },
   "source": [
    "Click the button below to see a full walkthrough video of the solution for both Task 1 and Task 2."
   ]
  },
  {
   "cell_type": "markdown",
   "metadata": {
    "editable": true,
    "toggleable": true,
    "ulab": {
     "buttons": {
      "ulab-button-toggle-3b3106eb": {
       "bashCommand": "",
       "filesToOpen": [],
       "isPreviewButton": false,
       "runInBackground": false,
       "style": "primary",
       "text": "",
       "toggleOffText": "HIDE SOLUTION",
       "toggleOnText": "SHOW SOLUTION VIDEO"
      }
     }
    },
    "video": {
     "duration": 434,
     "id": "105455",
     "subtitles": [],
     "topher_id": "d3416059-62e9-11ea-975c-0242ac110007",
     "transcodings": {
      "uri_480p_1000kbps_mp4": "https://video.udacity-data.com/topher/2020/March/5e67bc3b_l1-solution-separable-convolutions/l1-solution-separable-convolutions_480p_1000kbps.mp4",
      "uri_480p_mp4": "https://video.udacity-data.com/topher/2020/March/5e67bc3b_l1-solution-separable-convolutions/l1-solution-separable-convolutions_480p.mp4",
      "uri_720p_mp4": "https://video.udacity-data.com/topher/2020/March/5e67bc3b_l1-solution-separable-convolutions/l1-solution-separable-convolutions_720p.mp4",
      "uri_hls": "https://video.udacity-data.com/topher/2020/March/5e67bc3b_l1-solution-separable-convolutions/hls/playlist.m3u8"
     },
     "youtube_id": "sKyRTZXcYBg"
    }
   },
   "source": []
  }
 ],
 "metadata": {
  "kernelspec": {
   "display_name": "Python 3",
   "language": "python",
   "name": "python3"
  },
  "language_info": {
   "codemirror_mode": {
    "name": "ipython",
    "version": 3
   },
   "file_extension": ".py",
   "mimetype": "text/x-python",
   "name": "python",
   "nbconvert_exporter": "python",
   "pygments_lexer": "ipython3",
   "version": "3.6.3"
  },
  "ulab_nb_type": "guided"
 },
 "nbformat": 4,
 "nbformat_minor": 4
}
