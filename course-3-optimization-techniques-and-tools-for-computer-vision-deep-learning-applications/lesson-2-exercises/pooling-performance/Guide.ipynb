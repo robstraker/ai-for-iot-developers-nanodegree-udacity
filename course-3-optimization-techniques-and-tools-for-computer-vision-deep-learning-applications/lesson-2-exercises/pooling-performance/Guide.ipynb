{
 "cells": [
  {
   "cell_type": "markdown",
   "metadata": {
    "editable": true,
    "ulab": {
     "buttons": {
      "ulab-button-1f07fc1c": {
       "bashCommand": "source /opt/intel/openvino/bin/setupvars.sh -pyver 3.5",
       "filesToOpen": [],
       "isPreviewButton": false,
       "runInBackground": false,
       "style": "primary",
       "text": "RIGHT CLICK ME",
       "toggleOffText": "HIDE SOLUTION",
       "toggleOnText": "SHOW SOLUTION"
      }
     }
    }
   },
   "source": [
    "# Exercise: Pooling Performance\n",
    "\n",
    "For this exercise, you have two tasks: First, you will have to calculate the total number of flops for the `pool_cnn` model given below. Secondly, you will have to run this model and measure the inference time.\n",
    "\n",
    "**Note:** In case you get stuck (or just want some additional explanation), you'll find a full walkthrough video at the end of these instructions."
   ]
  },
  {
   "cell_type": "markdown",
   "metadata": {
    "editable": true,
    "ulab": {
     "buttons": {
      "ulab-button-07aec2df": {
       "bashCommand": "",
       "filesToOpen": [],
       "isPreviewButton": false,
       "runInBackground": false,
       "text": "RIGHT CLICK ME"
      },
      "ulab-button-8ab49cc0": {
       "bashCommand": "",
       "filesToOpen": [],
       "isPreviewButton": false,
       "runInBackground": false,
       "text": "RIGHT CLICK ME"
      }
     }
    }
   },
   "source": [
    "## Task 1: Calculate Model FLOPs\n",
    "\n",
    "#### Layer 1: Conv2D\n",
    "Input shape: 1x1x28x28  \n",
    "Kernel shape: 3x3  \n",
    "Number of kernels: 10  \n"
   ]
  },
  {
   "cell_type": "markdown",
   "metadata": {
    "editable": true,
    "toggleable": true,
    "ulab": {
     "buttons": {
      "ulab-button-toggle-986925b8": {
       "style": "primary"
      }
     }
    }
   },
   "source": [
    "Output shape:\n",
    "The shape for a single dimension will be = (28-3)+1 = 26\n",
    "So our output shape will be 26x26\n",
    "Because we have 10 kernels, our actual output shape will be 10x26x26\n",
    "\n",
    "FLOPS: 10x26x26x3x3x1x2 = 121,680"
   ]
  },
  {
   "cell_type": "markdown",
   "metadata": {
    "editable": true
   },
   "source": [
    "#### Layer 2: Average Pool 2D  \n",
    "Input Shape: 10x26x26  \n",
    "Kernel Shape: 2x2"
   ]
  },
  {
   "cell_type": "markdown",
   "metadata": {
    "editable": true,
    "toggleable": true,
    "ulab": {
     "buttons": {
      "ulab-button-toggle-8be02242": {
       "style": "primary"
      }
     }
    }
   },
   "source": [
    "Output Shape: 10x13x13\n",
    "\n",
    "FLOPS: 13x13x2x2x10 = 6,760"
   ]
  },
  {
   "cell_type": "markdown",
   "metadata": {
    "editable": true
   },
   "source": [
    "#### Layer 3: Conv2D\n",
    "Input shape: 10x13x13  \n",
    "Kernel shape: 3x3  \n",
    "Number of kernels: 5"
   ]
  },
  {
   "cell_type": "markdown",
   "metadata": {
    "editable": true,
    "toggleable": true,
    "ulab": {
     "buttons": {
      "ulab-button-toggle-6c08ad1a": {
       "style": "primary"
      }
     }
    }
   },
   "source": [
    "Output shape:\n",
    "The shape for a single dimension will be = (13-3)+1 = 11\n",
    "So our output shape will be 11x11\n",
    "Because we have 5 kernels, our actual output shape will be 5x11x11\n",
    "\n",
    "FLOPS: 5x11x11x3x3x10x2 = 108,900"
   ]
  },
  {
   "cell_type": "markdown",
   "metadata": {
    "editable": true
   },
   "source": [
    "#### Layer 4: Fully Connected\n",
    "Input shape: 11x11x5: 605  \n",
    "Output shape: 128  "
   ]
  },
  {
   "cell_type": "markdown",
   "metadata": {
    "editable": true,
    "toggleable": true,
    "ulab": {
     "buttons": {
      "ulab-button-toggle-5915335d": {
       "style": "primary"
      }
     }
    }
   },
   "source": [
    "FLOPS: 605x128x2 = 154,880"
   ]
  },
  {
   "cell_type": "markdown",
   "metadata": {
    "editable": true
   },
   "source": [
    "#### Layer 5: Fully Connected\n",
    "Input Shape: 128  \n",
    "Output Shape: 10"
   ]
  },
  {
   "cell_type": "markdown",
   "metadata": {
    "editable": true,
    "toggleable": true,
    "ulab": {
     "buttons": {
      "ulab-button-toggle-5cf69d0a": {
       "style": "primary"
      }
     }
    }
   },
   "source": [
    "FLOPS: 128x10x2 = 2560\n",
    "\n",
    "Total FLOPS: 121680+6760+108900+154880+2560 = 394,780"
   ]
  },
  {
   "cell_type": "markdown",
   "metadata": {
    "editable": true,
    "ulab": {
     "buttons": {
      "ulab-button-1b6ee7a3": {
       "bashCommand": "source /opt/intel/openvino/bin/setupvars.sh -pyver 3.5",
       "filesToOpen": [],
       "isPreviewButton": false,
       "runInBackground": false,
       "style": "primary",
       "text": "Source OpenVINO Environment",
       "toggleOffText": "HIDE SOLUTION",
       "toggleOnText": "SHOW SOLUTION"
      }
     }
    }
   },
   "source": [
    "### Task 2: Completing the Inference Pipeline\n",
    "You have to complete the `inference.py` python script on the right.\n",
    "\n",
    "\n",
    "Remember to source the OpenVINO environment before running the script.\n",
    "\n",
    "\n",
    "<button id=\"ulab-button-1b6ee7a3\" class=\"ulab-btn--primary\"></button>"
   ]
  },
  {
   "cell_type": "markdown",
   "metadata": {
    "editable": true
   },
   "source": [
    "Click the button below to see a full walkthrough video of the solution for both Task 1 and Task 2.\n",
    "\n",
    "<mark>**Note**: In the video, the solution uses the `IEPlugin` API to load the model. This is an alternate API to the `IECore` API that you have seen so far in the previous courses. You can use either API in your solution code, but do remember that the IEPlugin API will be deprecated in a future OpenVINO version.</mark>"
   ]
  },
  {
   "cell_type": "markdown",
   "metadata": {
    "editable": true,
    "toggleable": true,
    "ulab": {
     "buttons": {
      "ulab-button-toggle-783ce9de": {
       "bashCommand": "",
       "filesToOpen": [],
       "isPreviewButton": false,
       "runInBackground": false,
       "style": "primary",
       "text": "",
       "toggleOffText": "HIDE SOLUTION",
       "toggleOnText": "SHOW SOLUTION VIDEO"
      }
     }
    },
    "video": {
     "duration": 338,
     "id": "105452",
     "subtitles": [],
     "topher_id": "97de6771-62e9-11ea-975c-0242ac110007",
     "transcodings": {
      "uri_480p_1000kbps_mp4": "https://video.udacity-data.com/topher/2020/March/5e67bbd8_l1-solutioin-pooling-performance/l1-solutioin-pooling-performance_480p_1000kbps.mp4",
      "uri_480p_mp4": "https://video.udacity-data.com/topher/2020/March/5e67bbd8_l1-solutioin-pooling-performance/l1-solutioin-pooling-performance_480p.mp4",
      "uri_720p_mp4": "https://video.udacity-data.com/topher/2020/March/5e67bbd8_l1-solutioin-pooling-performance/l1-solutioin-pooling-performance_720p.mp4",
      "uri_hls": "https://video.udacity-data.com/topher/2020/March/5e67bbd8_l1-solutioin-pooling-performance/hls/playlist.m3u8"
     },
     "youtube_id": "KNXdNahze4s"
    }
   },
   "source": []
  }
 ],
 "metadata": {
  "kernelspec": {
   "display_name": "Python 3",
   "language": "python",
   "name": "python3"
  },
  "language_info": {
   "codemirror_mode": {
    "name": "ipython",
    "version": 3
   },
   "file_extension": ".py",
   "mimetype": "text/x-python",
   "name": "python",
   "nbconvert_exporter": "python",
   "pygments_lexer": "ipython3",
   "version": "3.6.3"
  },
  "ulab_nb_type": "guided"
 },
 "nbformat": 4,
 "nbformat_minor": 4
}
